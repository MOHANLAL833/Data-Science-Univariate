{
 "cells": [
  {
   "cell_type": "code",
   "execution_count": null,
   "id": "97554a2a",
   "metadata": {},
   "outputs": [],
   "source": [
    "values=[]\n",
    "for value in range (40,50):\n",
    "    values.append(value)"
   ]
  },
  {
   "cell_type": "code",
   "execution_count": null,
   "id": "1b9a68b2",
   "metadata": {},
   "outputs": [],
   "source": [
    "values"
   ]
  },
  {
   "cell_type": "markdown",
   "id": "d771c218",
   "metadata": {},
   "source": [
    "#  One liner For loop"
   ]
  },
  {
   "cell_type": "code",
   "execution_count": 3,
   "id": "5c729f7f",
   "metadata": {},
   "outputs": [],
   "source": [
    "values=[value for value in range (40,50)]\n",
    "#The values will be appended automatically in one liner for loop"
   ]
  },
  {
   "cell_type": "code",
   "execution_count": 4,
   "id": "ffede933",
   "metadata": {},
   "outputs": [
    {
     "data": {
      "text/plain": [
       "[40, 41, 42, 43, 44, 45, 46, 47, 48, 49]"
      ]
     },
     "execution_count": 4,
     "metadata": {},
     "output_type": "execute_result"
    }
   ],
   "source": [
    "values"
   ]
  }
 ],
 "metadata": {
  "kernelspec": {
   "display_name": "Python 3 (ipykernel)",
   "language": "python",
   "name": "python3"
  },
  "language_info": {
   "codemirror_mode": {
    "name": "ipython",
    "version": 3
   },
   "file_extension": ".py",
   "mimetype": "text/x-python",
   "name": "python",
   "nbconvert_exporter": "python",
   "pygments_lexer": "ipython3",
   "version": "3.7.1"
  }
 },
 "nbformat": 4,
 "nbformat_minor": 5
}
